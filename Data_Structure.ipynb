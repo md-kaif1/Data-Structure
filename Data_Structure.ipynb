{
  "nbformat": 4,
  "nbformat_minor": 0,
  "metadata": {
    "colab": {
      "provenance": []
    },
    "kernelspec": {
      "name": "python3",
      "display_name": "Python 3"
    },
    "language_info": {
      "name": "python"
    }
  },
  "cells": [
    {
      "cell_type": "markdown",
      "source": [
        "#Data Tyoe and Structure question\n",
        "Q1)What are data structures, and why are they important?\n",
        "Ans:Data structures are specialized formats for organizing, storing, and managing data in a computer so that it can be accessed and modified efficiently.\n",
        "Data structures are important because they:\n",
        "\n",
        "a)Improve efficiency:\n",
        "They help in writing optimized code by reducing time and space complexity.\n",
        "\n",
        "b)Help manage large data:\n",
        "In real-world applications (like databases, search engines, and operating systems), large amounts of data need to be managed efficiently.\n",
        "\n",
        "c)Enable faster algorithms:\n",
        "Choosing the right data structure can make a huge difference in how fast an algorithm runs (e.g., searching with a Binary Search Tree vs. a List).\n",
        "\n",
        "d)Form the foundation of programming:\n",
        "All major programming problems involve manipulating data. Data structures provide the foundation for solving these problems logically."
      ],
      "metadata": {
        "id": "1rTDXS1SFxHU"
      }
    },
    {
      "cell_type": "markdown",
      "source": [
        "Q2)Explain the difference between mutable and immutable data types with examples.\n",
        "Ans:mutability refers to whether or not the value of an object can be changed after it is created.\n",
        "Mutable Data Types\n",
        "These can be changed after creation.\n",
        "You can add, remove, or update elements without changing the object’s identity."
      ],
      "metadata": {
        "id": "wfvJL-vHwqeD"
      }
    },
    {
      "cell_type": "markdown",
      "source": [
        "Examples:\n",
        "\n",
        "list, dict, set."
      ],
      "metadata": {
        "id": "fJbmJxUuHR4S"
      }
    },
    {
      "cell_type": "code",
      "source": [
        "my_list = [1, 2, 3]\n",
        "print(id(my_list))\n",
        "\n",
        "my_list.append(4)\n",
        "print(my_list)\n",
        "print(id(my_list))"
      ],
      "metadata": {
        "id": "W_IXH3aLGE16"
      },
      "execution_count": null,
      "outputs": []
    },
    {
      "cell_type": "markdown",
      "source": [
        "Immutable Data Types\n",
        "These cannot be changed once created.\n",
        "Any \"change\" creates a new object in memory.\n"
      ],
      "metadata": {
        "id": "9Kt-NOlIGeKx"
      }
    },
    {
      "cell_type": "markdown",
      "source": [
        "Examples:\n",
        "\n",
        "int,\n",
        "float,\n",
        "str,\n",
        "tuple,\n",
        "bool."
      ],
      "metadata": {
        "id": "RiJJJN5XG--v"
      }
    },
    {
      "cell_type": "markdown",
      "source": [],
      "metadata": {
        "id": "HO1cLZewHoWQ"
      }
    },
    {
      "cell_type": "code",
      "source": [
        "x = \"hello\"\n",
        "print(id(x))\n",
        "\n",
        "x = x + \" world\"\n",
        "print(x)\n",
        "print(id(x))"
      ],
      "metadata": {
        "id": "AjP4R1MKGtLr"
      },
      "execution_count": null,
      "outputs": []
    },
    {
      "cell_type": "markdown",
      "source": [
        "3)What are the main differences between lists and tuples in Python?\n",
        "Ans:In Python, the main difference between lists and tuples lies in their mutability. Lists are mutable, meaning their contents can be changed after creation—you can add, remove, or modify elements. In contrast, tuples are immutable, so once they are created, their elements cannot be altered. Lists are defined using square brackets [], while tuples use parentheses (). Because of their mutability, lists are generally slower and consume more memory than tuples. Tuples, being immutable, are faster and more memory-efficient, making them suitable for storing constant data. Additionally, only tuples (not lists) can be used as keys in dictionaries if all their elements are immutable. In practice, you should use a list when the data might change, and a tuple when the data should remain fixed.\n"
      ],
      "metadata": {
        "id": "PJtxeNliHpNf"
      }
    },
    {
      "cell_type": "markdown",
      "source": [
        "Q4)Describe how dictionaries store data.\n",
        "Ans:Dictionaries store data as key- value pairs, using a hash table under the hood. Here's how it works:"
      ],
      "metadata": {
        "id": "WfYWHJRNIV2D"
      }
    },
    {
      "cell_type": "markdown",
      "source": [
        "A dictionary is written using curly braces {}, with each item in the form:\n",
        "\n"
      ],
      "metadata": {
        "id": "fBRunyAWJFGs"
      }
    },
    {
      "cell_type": "code",
      "source": [
        "my_dict = {\"name\": \"Kaif\", \"age\": 20, \"city\": \"Siwan\"}"
      ],
      "metadata": {
        "id": "E0fES7z-JF5h"
      },
      "execution_count": null,
      "outputs": []
    },
    {
      "cell_type": "markdown",
      "source": [
        "Q5)Why might you use a set instead of a list in Python?"
      ],
      "metadata": {
        "id": "7w9FPS85LO72"
      }
    },
    {
      "cell_type": "markdown",
      "source": [
        "Ans:1. Uniqueness\n",
        "Sets automatically remove duplicates"
      ],
      "metadata": {
        "id": "zOgCI2XdLp7M"
      }
    },
    {
      "cell_type": "code",
      "source": [
        "my_list = [1, 2, 2, 3]\n",
        "my_set = set(my_list)\n",
        "print(my_set)"
      ],
      "metadata": {
        "id": "mxP7BLBOL0re"
      },
      "execution_count": null,
      "outputs": []
    },
    {
      "cell_type": "markdown",
      "source": [
        "2. Set Operations\n",
        "Sets support operations like:\n",
        "\n",
        "Union (|)\n",
        "Intersection (&)\n",
        "Difference (-)\n",
        "Symmetric difference (^)\n"
      ],
      "metadata": {
        "id": "cW0x4l-ZL7bO"
      }
    },
    {
      "cell_type": "code",
      "source": [
        "a = {1, 2, 3}\n",
        "b = {2, 3, 4}\n",
        "print(a & b)"
      ],
      "metadata": {
        "id": "y7-Zx9WBMDkW"
      },
      "execution_count": null,
      "outputs": []
    },
    {
      "cell_type": "markdown",
      "source": [
        "3. Better for Mathematical Logic\n",
        "If you're working with collections in a mathematical context (like Venn diagrams or logic), sets are the natural choice."
      ],
      "metadata": {
        "id": "h47143u5MJQH"
      }
    },
    {
      "cell_type": "markdown",
      "source": [
        "Q6)What is a string in Python, and how is it different from a list?\n",
        "Ans:A string in Python is a sequence of characters enclosed in quotes (single ', double \", or triple quotes '''/\"\"\").It’s immutable, meaning once created, it cannot be changed.\n",
        "String\tList\n",
        "Data Type\tSequence of characters\tSequence of any data types\n",
        "Mutability\tImmutable (cannot be changed)\tMutable (can be changed)\n",
        "Syntax\tEnclosed in quotes \" \" or ' '\tEnclosed in square brackets [ ]\n",
        "Element Type\tOnly characters\tCan be mixed: int, str, float, etc.\n",
        "Indexing/Slicing\tSupported\tSupported\n",
        "Methods\tString-specific methods (.upper(), .find())\tList-specific methods (.append(), .sort())\n",
        "Example\t\"apple\"\t['a', 'p', 'p', 'l', 'e']\n"
      ],
      "metadata": {
        "id": "APyiQYCXMSC4"
      }
    },
    {
      "cell_type": "markdown",
      "source": [
        "7. How do tuples ensure data integrity in Python?\n",
        "Ans:Tuples in Python ensure data integrity mainly because they are immutable.\n"
      ],
      "metadata": {
        "id": "euMq7-zWNP_i"
      }
    },
    {
      "cell_type": "markdown",
      "source": [
        "8. What is a hash table, and how does it relate to dictionaries in Python?\n",
        "Ans:A hash table is a data structure that stores data using key-value pairs, and allows very fast access to values based on their keys — typically in O(1) time.\n",
        "\n",
        "It uses a technique called hashing:\n",
        "\n",
        "A hash function converts the key (like \"name\") into a hash value (a number).\n",
        "This number determines the index where the value is stored in memory.\n",
        "When you access the key later, the same hash is used to find and return the value."
      ],
      "metadata": {
        "id": "5vnIm1ytPQkc"
      }
    },
    {
      "cell_type": "markdown",
      "source": [
        "Q9) Can lists contain different data types in Python?\n",
        "Ans:Python lists are heterogeneous, meaning they can hold elements of different types in the same list."
      ],
      "metadata": {
        "id": "MRRr_TnVQQbu"
      }
    },
    {
      "cell_type": "code",
      "source": [
        "my_list = [42, \"hello\", 3.14, True, [1, 2], {\"a\": 1}]\n",
        "print(my_list)"
      ],
      "metadata": {
        "id": "xsorhpvJQwOk"
      },
      "execution_count": null,
      "outputs": []
    },
    {
      "cell_type": "markdown",
      "source": [
        "Q10) Explain why strings are immutable in Python.\n",
        "Ans:Strings in Python are immutable because once created, they cannot be changed.\n",
        "This design choice is intentional and offers several benefits in terms of performance, security, and reliability."
      ],
      "metadata": {
        "id": "PoUfCw-eQ7eG"
      }
    },
    {
      "cell_type": "markdown",
      "source": [
        "Q11)What advantages do dictionaries offer over lists for certain tasks?\n",
        "Ans:Dictionaries and lists are both important data structures, but dictionaries offer key advantages for certain tasks—especially when you need fast lookups or key-value pairing.\n",
        "\n",
        "\n"
      ],
      "metadata": {
        "id": "wqP3mmiJRXEx"
      }
    },
    {
      "cell_type": "markdown",
      "source": [
        "1. Faster Lookups (O(1) Time)\n",
        "Dictionaries use a hash table, so retrieving a value by key is much faster than searching through a list."
      ],
      "metadata": {
        "id": "PwOY6Q4JSIqw"
      }
    },
    {
      "cell_type": "markdown",
      "source": [
        "2. Key-Value Pairing\n",
        "Dictionaries store data as key-value pairs, making it easy to model real-world data like:\n",
        "\n",
        "Student records\n",
        "Configuration settings\n",
        "JSON data\n"
      ],
      "metadata": {
        "id": "-WQ4LHzrSMEe"
      }
    },
    {
      "cell_type": "markdown",
      "source": [
        "3. No Need to Remember Indexes\n",
        "With dictionaries, you access data using meaningful keys instead of numeric indexes."
      ],
      "metadata": {
        "id": "iOXHntDKSO-r"
      }
    },
    {
      "cell_type": "markdown",
      "source": [
        "4. Avoids Duplicates in Keys\n",
        "Dictionaries automatically prevent duplicate keys, ensuring unique identifiers for each item."
      ],
      "metadata": {
        "id": "mZOACE67SR06"
      }
    },
    {
      "cell_type": "markdown",
      "source": [
        "Q12)Describe a scenario where using a tuple would be preferable over a list.\n",
        "Ans:Scenario:\n",
        "Suppose you're building a program that stores geographical coordinates (latitude and longitude) of cities. You want to make sure that once a coordinate is set for a city, it cannot be accidentally changed.\n",
        "\n",
        "In this case, using a tuple is preferable over a list.\n",
        "\n"
      ],
      "metadata": {
        "id": "_PEHXKqYSZ-B"
      }
    },
    {
      "cell_type": "markdown",
      "source": [
        "example"
      ],
      "metadata": {
        "id": "faD8UgihT4zi"
      }
    },
    {
      "cell_type": "code",
      "source": [
        "city_coordinates = (\"Delhi\", (28.6139, 77.2090))"
      ],
      "metadata": {
        "id": "v4wZC---UClk"
      },
      "execution_count": null,
      "outputs": []
    },
    {
      "cell_type": "markdown",
      "source": [
        "Q13) How do sets handle duplicate values in Python?\n",
        "Ans:sets automatically eliminate duplicate values.\n",
        "\n",
        "Key behavior:\n",
        "A set cannot contain duplicate elements.\n",
        "If you try to add duplicates, Python will store only one copy.\n"
      ],
      "metadata": {
        "id": "Fr84oWceVV0K"
      }
    },
    {
      "cell_type": "code",
      "source": [
        "my_set = {1, 2, 2, 3, 4, 4, 5}\n",
        "print(my_set)"
      ],
      "metadata": {
        "colab": {
          "base_uri": "https://localhost:8080/"
        },
        "id": "5YbTSZ4OVvC2",
        "outputId": "3c92a34c-6646-4f2f-e1c3-2c08e5088121"
      },
      "execution_count": null,
      "outputs": [
        {
          "output_type": "stream",
          "name": "stdout",
          "text": [
            "{1, 2, 3, 4, 5}\n"
          ]
        }
      ]
    },
    {
      "cell_type": "markdown",
      "source": [
        "Q14). How does the \"in\" keyword work differently for lists and dictionaries?\n",
        "Ans:The in keyword in Python is used to check membership, but it behaves differently for lists and dictionaries."
      ],
      "metadata": {
        "id": "VOUzcXOPV-Zq"
      }
    },
    {
      "cell_type": "markdown",
      "source": [
        "For Lists:\n",
        "Checks if a value exists in the list."
      ],
      "metadata": {
        "id": "X63pkdXOWnUG"
      }
    },
    {
      "cell_type": "code",
      "source": [
        "my_list = [10, 20, 30]\n",
        "print(20 in my_list)\n",
        "print(40 in my_list)"
      ],
      "metadata": {
        "id": "8ifPXWONWotM"
      },
      "execution_count": null,
      "outputs": []
    },
    {
      "cell_type": "markdown",
      "source": [
        "Q15)Can you modify the elements of a tuple? Explain why or why not.\n",
        "Ans:No, you cannot modify the elements of a tuple in Python.\n",
        "Reason:\n",
        "Tuples are immutable, which means once they are created, their elements cannot be changed, added, or removed.\n",
        "Why tuples are immutable:\n",
        "Immutability makes data safe from accidental changes.\n",
        "Tuples can be used as keys in dictionaries or elements in sets (lists can't).\n",
        "Improves performance and allows for hashing."
      ],
      "metadata": {
        "id": "hhLY6teWZB6R"
      }
    },
    {
      "cell_type": "code",
      "source": [
        "my_tuple = (10, 20, 30)\n",
        "my_tuple[0] = 100"
      ],
      "metadata": {
        "id": "6KCGZcieath_"
      },
      "execution_count": null,
      "outputs": []
    },
    {
      "cell_type": "markdown",
      "source": [
        "Q16)What is a nested dictionary, and give an example of its use case?\n",
        "Ans:A nested dictionary is a dictionary that contains another dictionary as a value within it. In other words, the value associated with a key in a dictionary can itself be a dictionary."
      ],
      "metadata": {
        "id": "ifR6DfVla05D"
      }
    },
    {
      "cell_type": "markdown",
      "source": [
        "Use Case Example: Student Records\n",
        "Imagine you are storing information about multiple students, where each student has their own details like name, age, and marks. You can use a nested dictionary for this:"
      ],
      "metadata": {
        "id": "MSzrKtOabt3H"
      }
    },
    {
      "cell_type": "code",
      "source": [
        "students = {\n",
        "    \"101\": {\"name\": \"Amit\", \"age\": 20, \"marks\": 85},\n",
        "    \"102\": {\"name\": \"Sana\", \"age\": 19, \"marks\": 92},\n",
        "    \"103\": {\"name\": \"Raj\", \"age\": 21, \"marks\": 78}\n",
        "}"
      ],
      "metadata": {
        "id": "8ysKt4J5buuT"
      },
      "execution_count": null,
      "outputs": []
    },
    {
      "cell_type": "code",
      "source": [
        "print(students[\"102\"][\"name\"])\n",
        "print(students[\"101\"][\"marks\"])"
      ],
      "metadata": {
        "colab": {
          "base_uri": "https://localhost:8080/"
        },
        "id": "EzoTmpiubz7s",
        "outputId": "c4953926-896c-411a-daab-dc9f4483e5f6"
      },
      "execution_count": null,
      "outputs": [
        {
          "output_type": "stream",
          "name": "stdout",
          "text": [
            "Sana\n",
            "85\n"
          ]
        }
      ]
    },
    {
      "cell_type": "markdown",
      "source": [
        "Q17) Describe the time complexity of accessing elements in a dictionary.\n",
        "Ans:ictionaries are implemented using hash tables. Because of this, accessing elements in a dictionary by key has an average-case time complexity of:\n",
        "\n",
        "O(1) (constant time)\n",
        "This means that retrieving a value using its key (e.g., my_dict[\"key\"]) usually takes the same amount of time, regardless of the size of the dictionary.\n",
        "\n",
        "Worst-case time complexity: O(n)\n",
        "This can happen in rare situations due to hash collisions, where many keys hash to the same index. Python handles this with techniques like open addressing or chaining, but in extreme cases (like a poorly designed hash function or deliberate attack), performance may degrade."
      ],
      "metadata": {
        "id": "CEu-K-hZcRH6"
      }
    },
    {
      "cell_type": "markdown",
      "source": [
        "Q18)In what situations are lists preferred over dictionaries?\n",
        "Ans:Lists are preferred over dictionaries in the following situations:"
      ],
      "metadata": {
        "id": "NXZ8BEH8c2-G"
      }
    },
    {
      "cell_type": "markdown",
      "source": [
        "1. When the order of elements matters\n",
        "Lists maintain insertion order and allow indexed access (e.g., my_list[0]).\n",
        "Useful when you need to process elements sequentially or preserve the order of data.\n",
        "Example: Storing a sequence of student marks:\n"
      ],
      "metadata": {
        "id": "67p58wcgdLUo"
      }
    },
    {
      "cell_type": "markdown",
      "source": [
        "2. When you don't need key-value pairs\n",
        "If your data doesn't require meaningful labels (keys), a list is simpler and more appropriate.\n",
        "Example: List of fruits:\n"
      ],
      "metadata": {
        "id": "svzJUw7vdUCw"
      }
    },
    {
      "cell_type": "markdown",
      "source": [
        "3. When memory efficiency is important\n",
        "Lists use less memory than dictionaries because they store only values, not keys.\n",
        "Better for storing large amounts of homogeneous data.\n"
      ],
      "metadata": {
        "id": "PgNI7FGmddWR"
      }
    },
    {
      "cell_type": "code",
      "source": [
        "For numerical or positional data\n",
        "Lists are ideal for arrays, matrices, queues, stacks, etc., where position/index is more important than key lookup.\n",
        "Example: Implementing a stack"
      ],
      "metadata": {
        "id": "YSL5HiRjdhqC"
      },
      "execution_count": null,
      "outputs": []
    },
    {
      "cell_type": "markdown",
      "source": [
        "Q19)Why are dictionaries considered unordered, and how does that affect data retrieval?"
      ],
      "metadata": {
        "id": "FzE02sx-dqAt"
      }
    },
    {
      "cell_type": "markdown",
      "source": [
        "Ans:Originally, dictionaries in Python were considered unordered because they used hash tables, which store elements based on hash values of the keys — not the order in which they were inserted.\n",
        "\n",
        "Before Python 3.7, the order of key-value pairs was not guaranteed.\n",
        "So, iterating over a dictionary (e.g., in a for loop) could return items in any order, regardless of how you added them."
      ],
      "metadata": {
        "id": "mEiaQIfGeKZW"
      }
    },
    {
      "cell_type": "markdown",
      "source": [
        "20. Explain the difference between a list and a dictionary in terms of data retrieval.\n",
        "Ans:Retrieval Method\n",
        "Structure\tHow Data is Retrieved\n",
        "List\tBy index (position) → my_list[0]\n",
        "Dictionary\tBy key (label) → my_dict[\"name\"]\n",
        "Lists use integer indices starting from 0.\n",
        "Dictionaries use unique keys (can be strings, numbers, etc.) to retrieve values.\n"
      ],
      "metadata": {
        "id": "Hcf0BBtFesOp"
      }
    },
    {
      "cell_type": "markdown",
      "source": [],
      "metadata": {
        "id": "yADzVjh3fIGs"
      }
    },
    {
      "cell_type": "markdown",
      "source": [
        "2. Time Complexity\n",
        "Operation\tList\tDictionary\n",
        "Access by index\tO(1)\tNot allowed\n",
        "Access by key\t Not supported\tO(1) (average)\n",
        "Lists are efficient for index-based access.\n",
        "Dictionaries are efficient for key-based lookups.\n"
      ],
      "metadata": {
        "id": "a0qCUPYKfIIR"
      }
    },
    {
      "cell_type": "markdown",
      "source": [
        " 3. Use Case\n",
        "Structure\tUse When...\n",
        "List\tYou have ordered, sequential data.\n",
        "Dictionary\tYou have named, labeled, or mapped data.\n"
      ],
      "metadata": {
        "id": "JdG0RpHAfOtq"
      }
    },
    {
      "cell_type": "markdown",
      "source": [
        "#practical questions"
      ],
      "metadata": {
        "id": "LSeqHHXif164"
      }
    },
    {
      "cell_type": "markdown",
      "source": [
        "1. Write a code to create a string with your name and print it."
      ],
      "metadata": {
        "id": "pXOunMu5gBMy"
      }
    },
    {
      "cell_type": "code",
      "source": [
        "name=\"kaif\"\n",
        "name"
      ],
      "metadata": {
        "colab": {
          "base_uri": "https://localhost:8080/",
          "height": 35
        },
        "id": "iy2qYuR6Xa8k",
        "outputId": "413750ed-4283-4725-9e26-c43e255a577e"
      },
      "execution_count": null,
      "outputs": [
        {
          "output_type": "execute_result",
          "data": {
            "text/plain": [
              "'kaif'"
            ],
            "application/vnd.google.colaboratory.intrinsic+json": {
              "type": "string"
            }
          },
          "metadata": {},
          "execution_count": 1
        }
      ]
    },
    {
      "cell_type": "markdown",
      "source": [
        "2. Write a code to find the length of the string \"Hello World\"."
      ],
      "metadata": {
        "id": "a5pzSxZ3dY5w"
      }
    },
    {
      "cell_type": "code",
      "source": [
        "greeting=\"Hello World\"\n",
        "len(greeting)"
      ],
      "metadata": {
        "colab": {
          "base_uri": "https://localhost:8080/"
        },
        "id": "2Qc9N6gCdczQ",
        "outputId": "5b0b02be-5390-48ab-a2d2-bb9950536d2f"
      },
      "execution_count": null,
      "outputs": [
        {
          "output_type": "execute_result",
          "data": {
            "text/plain": [
              "11"
            ]
          },
          "metadata": {},
          "execution_count": 2
        }
      ]
    },
    {
      "cell_type": "markdown",
      "source": [
        "3. Write a code to slice the first 3 characters from the string \"Python Programming\"."
      ],
      "metadata": {
        "id": "LOD3Zef6kBDz"
      }
    },
    {
      "cell_type": "code",
      "source": [
        "text=\"Python Programming\"\n",
        "text[:3]"
      ],
      "metadata": {
        "colab": {
          "base_uri": "https://localhost:8080/",
          "height": 35
        },
        "id": "PwQ1eDJVkhrO",
        "outputId": "c6a2a4a2-3441-4e7a-aea1-53996ab2cdec"
      },
      "execution_count": null,
      "outputs": [
        {
          "output_type": "execute_result",
          "data": {
            "text/plain": [
              "'Pyt'"
            ],
            "application/vnd.google.colaboratory.intrinsic+json": {
              "type": "string"
            }
          },
          "metadata": {},
          "execution_count": 3
        }
      ]
    },
    {
      "cell_type": "markdown",
      "source": [],
      "metadata": {
        "id": "sFPn3I83mW9O"
      }
    },
    {
      "cell_type": "markdown",
      "source": [
        "4. Write a code to convert the string \"hello\" to uppercase."
      ],
      "metadata": {
        "id": "dwEHFb1GmW-r"
      }
    },
    {
      "cell_type": "code",
      "source": [
        "text=\"hello\"\n",
        "text.upper()"
      ],
      "metadata": {
        "colab": {
          "base_uri": "https://localhost:8080/",
          "height": 35
        },
        "id": "LXcsxo_tmZBa",
        "outputId": "5f9cc776-f107-4647-c197-e70361aef296"
      },
      "execution_count": null,
      "outputs": [
        {
          "output_type": "execute_result",
          "data": {
            "text/plain": [
              "'HELLO'"
            ],
            "application/vnd.google.colaboratory.intrinsic+json": {
              "type": "string"
            }
          },
          "metadata": {},
          "execution_count": 4
        }
      ]
    },
    {
      "cell_type": "markdown",
      "source": [
        "5. Write a code to replace the word \"apple\" with \"orange\" in the string \"I like apple\"."
      ],
      "metadata": {
        "id": "i6qz1izNmrQG"
      }
    },
    {
      "cell_type": "code",
      "source": [
        "sentance=\"i like apple\"\n",
        "sentance.replace(\"apple\",\"orange\")"
      ],
      "metadata": {
        "colab": {
          "base_uri": "https://localhost:8080/",
          "height": 35
        },
        "id": "g9SFBvDGnJcQ",
        "outputId": "9fb11663-26ca-430a-e849-0049fb2f11b9"
      },
      "execution_count": null,
      "outputs": [
        {
          "output_type": "execute_result",
          "data": {
            "text/plain": [
              "'i like orange'"
            ],
            "application/vnd.google.colaboratory.intrinsic+json": {
              "type": "string"
            }
          },
          "metadata": {},
          "execution_count": 6
        }
      ]
    },
    {
      "cell_type": "markdown",
      "source": [
        "6. Write a code to create a list with numbers 1 to 5 and print it."
      ],
      "metadata": {
        "id": "G0lRHAV0n5vL"
      }
    },
    {
      "cell_type": "code",
      "source": [
        "list=[1,2,3,4,5]\n",
        "list"
      ],
      "metadata": {
        "colab": {
          "base_uri": "https://localhost:8080/"
        },
        "id": "Sraj97_In7mK",
        "outputId": "43fafa5c-f6aa-4bab-e165-c3085e8683a6"
      },
      "execution_count": null,
      "outputs": [
        {
          "output_type": "execute_result",
          "data": {
            "text/plain": [
              "[1, 2, 3, 4, 5]"
            ]
          },
          "metadata": {},
          "execution_count": 9
        }
      ]
    },
    {
      "cell_type": "markdown",
      "source": [
        "7. Write a code to append the number 10 to the list [1, 2, 3, 4]."
      ],
      "metadata": {
        "id": "ghq3oUswoRl9"
      }
    },
    {
      "cell_type": "code",
      "source": [
        "list=[1,2,3,4]\n",
        "list.append(10)\n",
        "print(list)"
      ],
      "metadata": {
        "colab": {
          "base_uri": "https://localhost:8080/"
        },
        "id": "6TJhvukOoUf3",
        "outputId": "0f648661-9ca2-4f90-eb6b-a760f4ac74f5"
      },
      "execution_count": null,
      "outputs": [
        {
          "output_type": "stream",
          "name": "stdout",
          "text": [
            "[1, 2, 3, 4, 10]\n"
          ]
        }
      ]
    },
    {
      "cell_type": "markdown",
      "source": [
        "8. Write a code to remove the number 3 from the list [1, 2, 3, 4, 5]."
      ],
      "metadata": {
        "id": "22U9Kh04ovjc"
      }
    },
    {
      "cell_type": "code",
      "source": [
        "list=[1,2,3,4,5]\n",
        "list.remove(3)\n",
        "print(list)"
      ],
      "metadata": {
        "colab": {
          "base_uri": "https://localhost:8080/"
        },
        "id": "_CkI6jikowqM",
        "outputId": "fee5ad15-ee5c-4b72-8401-50c15f185300"
      },
      "execution_count": null,
      "outputs": [
        {
          "output_type": "stream",
          "name": "stdout",
          "text": [
            "[1, 2, 4, 5]\n"
          ]
        }
      ]
    },
    {
      "cell_type": "markdown",
      "source": [],
      "metadata": {
        "id": "Bu1ZkWo8pEF3"
      }
    },
    {
      "cell_type": "markdown",
      "source": [
        "9. Write a code to access the second element in the list [a, b,c,o].\n"
      ],
      "metadata": {
        "id": "-QVu2ZxUpEHx"
      }
    },
    {
      "cell_type": "code",
      "source": [
        "list=['a','b','c','o']\n",
        "list[1]"
      ],
      "metadata": {
        "colab": {
          "base_uri": "https://localhost:8080/",
          "height": 35
        },
        "id": "e5SBvKNNpqaA",
        "outputId": "05917f0c-09a5-4a3a-a74b-3040b2b66a9e"
      },
      "execution_count": null,
      "outputs": [
        {
          "output_type": "execute_result",
          "data": {
            "text/plain": [
              "'b'"
            ],
            "application/vnd.google.colaboratory.intrinsic+json": {
              "type": "string"
            }
          },
          "metadata": {},
          "execution_count": 17
        }
      ]
    },
    {
      "cell_type": "markdown",
      "source": [
        "10. Write a code to reverse the list [10, 20, 30, 40, 50]."
      ],
      "metadata": {
        "id": "acRIZrxPqe0K"
      }
    },
    {
      "cell_type": "code",
      "source": [
        "list=[10,20,30,40,50]\n",
        "list.reverse()\n",
        "print(list)"
      ],
      "metadata": {
        "colab": {
          "base_uri": "https://localhost:8080/"
        },
        "id": "hKgsl8gGqgZs",
        "outputId": "d5071b96-6c12-47f6-f394-24a554707b04"
      },
      "execution_count": null,
      "outputs": [
        {
          "output_type": "stream",
          "name": "stdout",
          "text": [
            "[50, 40, 30, 20, 10]\n"
          ]
        }
      ]
    },
    {
      "cell_type": "markdown",
      "source": [
        "11. Write a code to create a tuple with the elements 100, 200, 300 and print it."
      ],
      "metadata": {
        "id": "H1pjRzB-rQHZ"
      }
    },
    {
      "cell_type": "code",
      "source": [
        "tuple=(100,200,300)\n",
        "print(tuple)"
      ],
      "metadata": {
        "colab": {
          "base_uri": "https://localhost:8080/"
        },
        "id": "8-c7Es3UrRKk",
        "outputId": "895a3e4d-f153-4c5c-872c-8036f1d60c7d"
      },
      "execution_count": null,
      "outputs": [
        {
          "output_type": "stream",
          "name": "stdout",
          "text": [
            "(100, 200, 300)\n"
          ]
        },
        {
          "output_type": "execute_result",
          "data": {
            "text/plain": [
              "tuple"
            ]
          },
          "metadata": {},
          "execution_count": 23
        }
      ]
    },
    {
      "cell_type": "markdown",
      "source": [
        "12. Write a code to access the second-to-last element of the tuple (red', 'green, 'blue', yellow')."
      ],
      "metadata": {
        "id": "Az-TcVE4r6-X"
      }
    },
    {
      "cell_type": "code",
      "source": [
        "tuple=(\"red\",\"gren\",\"blue\",\"yello\")\n",
        "tuple[-2]"
      ],
      "metadata": {
        "id": "-QrW4Sipr8tO",
        "colab": {
          "base_uri": "https://localhost:8080/",
          "height": 35
        },
        "outputId": "5e22e6fb-44b2-4cb5-88a2-736756894527"
      },
      "execution_count": null,
      "outputs": [
        {
          "output_type": "execute_result",
          "data": {
            "text/plain": [
              "'blue'"
            ],
            "application/vnd.google.colaboratory.intrinsic+json": {
              "type": "string"
            }
          },
          "metadata": {},
          "execution_count": 25
        }
      ]
    },
    {
      "cell_type": "markdown",
      "source": [],
      "metadata": {
        "id": "2thlXo8NE4Ao"
      }
    },
    {
      "cell_type": "markdown",
      "source": [
        "13. Write a code to find the minimum number in the tuple (10, 20, 5, 15)."
      ],
      "metadata": {
        "id": "7_PWsa9OE4DC"
      }
    },
    {
      "cell_type": "code",
      "source": [
        "number=(10,20,5,15)\n",
        "minimum=min(number)\n",
        "print(minimum)\n"
      ],
      "metadata": {
        "colab": {
          "base_uri": "https://localhost:8080/"
        },
        "id": "L3PhUvA0FWM1",
        "outputId": "d2f728dd-47ac-48f4-c067-06c85c62eaec"
      },
      "execution_count": null,
      "outputs": [
        {
          "output_type": "stream",
          "name": "stdout",
          "text": [
            "5\n"
          ]
        }
      ]
    },
    {
      "cell_type": "markdown",
      "source": [
        "14. Write a code to find the index of the element \"cat\" in the tuple (dog, 'cat, rabbit')."
      ],
      "metadata": {
        "id": "HmUJscWhIs6k"
      }
    },
    {
      "cell_type": "code",
      "source": [
        "Animal=(\"dog\",\"cat\",\"rabbit\")\n",
        "Animal.index(\"cat\")"
      ],
      "metadata": {
        "colab": {
          "base_uri": "https://localhost:8080/"
        },
        "id": "HCDAfC_uIz2_",
        "outputId": "89006cf2-9b57-4f64-a1e5-1f1d50b201d7"
      },
      "execution_count": null,
      "outputs": [
        {
          "output_type": "execute_result",
          "data": {
            "text/plain": [
              "1"
            ]
          },
          "metadata": {},
          "execution_count": 30
        }
      ]
    },
    {
      "cell_type": "markdown",
      "source": [
        "15. Write a code to create a tuple containing three different fruits and check if \"kiwi\" is in it."
      ],
      "metadata": {
        "id": "WIOyqukHKLvi"
      }
    },
    {
      "cell_type": "code",
      "source": [
        "fruits=(\"apple\",\"mangi\",\"kiwi\")\n",
        "if \"kiwi\" in fruits:\n",
        "  print(\"yes kiwi is present in tuple\")\n",
        "else:\n",
        "   print(\"no kiwi is not present in tuple\")\n"
      ],
      "metadata": {
        "colab": {
          "base_uri": "https://localhost:8080/"
        },
        "id": "DzbiqtfAKTcy",
        "outputId": "5fc1c62e-5d52-4d35-a64c-9bc3438a5586"
      },
      "execution_count": null,
      "outputs": [
        {
          "output_type": "stream",
          "name": "stdout",
          "text": [
            "yes kiwi is present in tuple\n"
          ]
        }
      ]
    },
    {
      "cell_type": "markdown",
      "source": [
        "16. Write a code to create a set with the elements 'a', 'b', 'c' and print it."
      ],
      "metadata": {
        "id": "_IZttZTsLbBZ"
      }
    },
    {
      "cell_type": "code",
      "source": [
        "char={'a','b','c'}\n",
        "print(char)"
      ],
      "metadata": {
        "colab": {
          "base_uri": "https://localhost:8080/"
        },
        "id": "1V0O0YtaLczM",
        "outputId": "3fa8a654-4189-4838-e887-48683255adec"
      },
      "execution_count": null,
      "outputs": [
        {
          "output_type": "stream",
          "name": "stdout",
          "text": [
            "{'b', 'a', 'c'}\n"
          ]
        }
      ]
    },
    {
      "cell_type": "markdown",
      "source": [
        "17. Write a code to clear all elements from the set {1, 2, 3, 4, 5}."
      ],
      "metadata": {
        "id": "yDt-TdeeL4Vt"
      }
    },
    {
      "cell_type": "code",
      "source": [
        "number={1,2,3,4,5}\n",
        "number.clear()\n",
        "print(\"set after clearing\",number)"
      ],
      "metadata": {
        "colab": {
          "base_uri": "https://localhost:8080/"
        },
        "id": "rSqbTMaiL5of",
        "outputId": "15f9e6a2-24da-4261-c3a0-6c93c5967315"
      },
      "execution_count": null,
      "outputs": [
        {
          "output_type": "stream",
          "name": "stdout",
          "text": [
            "set after clearing set()\n"
          ]
        }
      ]
    },
    {
      "cell_type": "markdown",
      "source": [
        "18. Write a code to remove the element 4 from the set {1, 2, 3, 4}."
      ],
      "metadata": {
        "id": "jqymvc9eM1e_"
      }
    },
    {
      "cell_type": "code",
      "source": [
        "number={1,2,3,4}\n",
        "number.remove(4)\n",
        "print(number)"
      ],
      "metadata": {
        "colab": {
          "base_uri": "https://localhost:8080/"
        },
        "id": "00wja1UpSUVP",
        "outputId": "32543a04-075e-4709-f7fd-13b4cac73d8d"
      },
      "execution_count": null,
      "outputs": [
        {
          "output_type": "stream",
          "name": "stdout",
          "text": [
            "{1, 2, 3}\n"
          ]
        }
      ]
    },
    {
      "cell_type": "markdown",
      "source": [
        "19. Write a code to find the union of two sets {1, 2, 3} and {3, 4, 5}."
      ],
      "metadata": {
        "id": "egv0NgF6T7Q7"
      }
    },
    {
      "cell_type": "code",
      "source": [
        "set1={1,2,3}\n",
        "set2={4,6,7}\n",
        "set1|set2"
      ],
      "metadata": {
        "colab": {
          "base_uri": "https://localhost:8080/"
        },
        "id": "4E9sO9zWUDMd",
        "outputId": "cbade13c-a7be-45d8-cfae-4c6f77d42b8d"
      },
      "execution_count": null,
      "outputs": [
        {
          "output_type": "execute_result",
          "data": {
            "text/plain": [
              "{1, 2, 3, 4, 6, 7}"
            ]
          },
          "metadata": {},
          "execution_count": 61
        }
      ]
    },
    {
      "cell_type": "markdown",
      "source": [
        "20. Write a code to find the intersection of two sets {1, 2, 3} and {2, 3, 4}."
      ],
      "metadata": {
        "id": "y7_3yRjDVVYY"
      }
    },
    {
      "cell_type": "code",
      "source": [
        "num1={1,2,3}\n",
        "num2={2,3,7}\n",
        "num1 & num2\n"
      ],
      "metadata": {
        "colab": {
          "base_uri": "https://localhost:8080/"
        },
        "id": "MfYtKfiSVpMU",
        "outputId": "da0fc7f9-077f-47c8-f477-20dc648158c4"
      },
      "execution_count": null,
      "outputs": [
        {
          "output_type": "execute_result",
          "data": {
            "text/plain": [
              "{2, 3}"
            ]
          },
          "metadata": {},
          "execution_count": 70
        }
      ]
    },
    {
      "cell_type": "markdown",
      "source": [
        "21. Write a code to create a dictionary with the keys \"name\", \"age\", and \"city\", and print it."
      ],
      "metadata": {
        "id": "emJaUghBYRKy"
      }
    },
    {
      "cell_type": "code",
      "source": [
        "person={\"name\":\"kaif\",\"age\":20,\"city\":\"delhi\"}\n",
        "print(person)"
      ],
      "metadata": {
        "colab": {
          "base_uri": "https://localhost:8080/"
        },
        "id": "soz4DVJZYSLk",
        "outputId": "ff7ef574-e99e-44b9-a16b-9e9f2b29d6a6"
      },
      "execution_count": null,
      "outputs": [
        {
          "output_type": "stream",
          "name": "stdout",
          "text": [
            "{'name': 'kaif', 'age': 20, 'city': 'delhi'}\n"
          ]
        }
      ]
    },
    {
      "cell_type": "markdown",
      "source": [
        "22. Write a code to add a new key-value pair \"country\": \"USA\" to the dictionary {'name: John', age: 25}."
      ],
      "metadata": {
        "id": "Orz8o9sKZp2y"
      }
    },
    {
      "cell_type": "code",
      "source": [
        "dictionary={\"name\":\"john\",\"age\":25,\"country\":\"USA\"}\n",
        "dictionary"
      ],
      "metadata": {
        "colab": {
          "base_uri": "https://localhost:8080/"
        },
        "id": "sZobQZ3_ZriD",
        "outputId": "d3e73f11-8805-4e8b-c14a-73907e7fafe1"
      },
      "execution_count": null,
      "outputs": [
        {
          "output_type": "execute_result",
          "data": {
            "text/plain": [
              "{'name': 'john', 'age': 25, 'country': 'USA'}"
            ]
          },
          "metadata": {},
          "execution_count": 74
        }
      ]
    },
    {
      "cell_type": "markdown",
      "source": [
        "23. Write a code to access the value associated with the key \"name\" in the dictionary {'name: 'Alice, 'age: 30}."
      ],
      "metadata": {
        "id": "aJlsYf7wbor1"
      }
    },
    {
      "cell_type": "code",
      "source": [
        "dictionary={\"name\":\"Alice\",\"age\":30}\n",
        "dictionary[\"name\"]"
      ],
      "metadata": {
        "colab": {
          "base_uri": "https://localhost:8080/",
          "height": 35
        },
        "id": "lsIVr6Pbbp32",
        "outputId": "b4be2bb8-46c2-4f5f-9c4f-ed69980588ab"
      },
      "execution_count": null,
      "outputs": [
        {
          "output_type": "execute_result",
          "data": {
            "text/plain": [
              "'Alice'"
            ],
            "application/vnd.google.colaboratory.intrinsic+json": {
              "type": "string"
            }
          },
          "metadata": {},
          "execution_count": 77
        }
      ]
    },
    {
      "cell_type": "markdown",
      "source": [
        "24. Write a code to remove the key \"age\" from the dictionary {name: 'Bob', 'age: 22, 'city: 'New York}."
      ],
      "metadata": {
        "id": "dUaabPIXcuSh"
      }
    },
    {
      "cell_type": "code",
      "source": [
        "dictionary={\"name\":\"Bob\",\"age\":22,\"city\":\"New York\"}\n",
        "dictionary.pop(\"age\")\n",
        "print(dictionary)"
      ],
      "metadata": {
        "colab": {
          "base_uri": "https://localhost:8080/"
        },
        "id": "0K1HDgtScw4m",
        "outputId": "68c71d95-da5d-4e1e-c600-4b41e3d6da25"
      },
      "execution_count": null,
      "outputs": [
        {
          "output_type": "stream",
          "name": "stdout",
          "text": [
            "{'name': 'Bob', 'city': 'New York'}\n"
          ]
        }
      ]
    },
    {
      "cell_type": "markdown",
      "source": [
        "25. Write a code to check if the key \"city\" exists in the dictionary {'name: 'Alice, city: Paris'}."
      ],
      "metadata": {
        "id": "hp879yIed_Ry"
      }
    },
    {
      "cell_type": "code",
      "source": [
        "dictionary={\"name\":\"Alice\",\"city\":\"Paris\"}\n",
        "if \"city\" in dictionary:\n",
        "  print(\"yes city exist in dictionary \")\n",
        "else:\n",
        "  print(\"No city exist in dictionary \")"
      ],
      "metadata": {
        "colab": {
          "base_uri": "https://localhost:8080/"
        },
        "id": "2cFhObzYftIE",
        "outputId": "86c6d6fb-d132-48d6-f54f-98a448f4e2ca"
      },
      "execution_count": null,
      "outputs": [
        {
          "output_type": "stream",
          "name": "stdout",
          "text": [
            "yes city exist in dictionary \n"
          ]
        }
      ]
    },
    {
      "cell_type": "markdown",
      "source": [],
      "metadata": {
        "id": "So11QSGnlAdb"
      }
    },
    {
      "cell_type": "markdown",
      "source": [
        "26. Write a code to create a list, a tuple, and a dictionary, and print them all."
      ],
      "metadata": {
        "id": "TQlwOu0ylAfD"
      }
    },
    {
      "cell_type": "code",
      "source": [
        "My_list=[1,2,3,4]\n",
        "My_tuple={\"kaif\",\"roshan\",\"prince\"}\n",
        "My_dict={\"Name\":\"kaif\",\"Roll\":12}\n",
        "print(\"List:\",My_list)\n",
        "print(\"Tuple:\",My_tuple)\n",
        "print(\"Dictionary:\",My_dict)"
      ],
      "metadata": {
        "colab": {
          "base_uri": "https://localhost:8080/"
        },
        "id": "5qHzc0_IlDCV",
        "outputId": "0fb01930-3e47-4439-c0ab-ff9a170d2e42"
      },
      "execution_count": null,
      "outputs": [
        {
          "output_type": "stream",
          "name": "stdout",
          "text": [
            "List: [1, 2, 3, 4]\n",
            "Tuple: {'roshan', 'kaif', 'prince'}\n",
            "Dictionary: {'Name': 'kaif', 'Roll': 12}\n"
          ]
        }
      ]
    },
    {
      "cell_type": "markdown",
      "source": [
        "27. Write a code to create a list of 5 random numbers between 1 and 100, sort it in ascending order, and print the result. (replaced)"
      ],
      "metadata": {
        "id": "Hu4JLTI7pmW2"
      }
    },
    {
      "cell_type": "code",
      "source": [
        "import random\n",
        "random_numbers = [random.randint(1, 100) for _ in range(5)]\n",
        "random_numbers.sort()\n",
        "print(\"Sorted list:\", random_numbers)"
      ],
      "metadata": {
        "colab": {
          "base_uri": "https://localhost:8080/"
        },
        "id": "H0I2Qprtppog",
        "outputId": "3655da66-6fb7-4534-98a5-7015d50ae52c"
      },
      "execution_count": null,
      "outputs": [
        {
          "output_type": "stream",
          "name": "stdout",
          "text": [
            "Sorted list: [18, 32, 41, 80, 80]\n"
          ]
        }
      ]
    },
    {
      "cell_type": "markdown",
      "source": [
        "28. Write a code to create a list with strings and print the element at the third index."
      ],
      "metadata": {
        "id": "nW65dpdVxjpx"
      }
    },
    {
      "cell_type": "code",
      "source": [
        "fruits = ['apple', 'banana', 'cherry', 'mango', 'orange']\n",
        "print(\"Element at index 3:\", fruits[3])"
      ],
      "metadata": {
        "colab": {
          "base_uri": "https://localhost:8080/"
        },
        "id": "l-YJOHKazKCD",
        "outputId": "4eea9292-15f4-48b9-9dfd-4407e5341f27"
      },
      "execution_count": null,
      "outputs": [
        {
          "output_type": "stream",
          "name": "stdout",
          "text": [
            "Element at index 3: mango\n"
          ]
        }
      ]
    },
    {
      "cell_type": "markdown",
      "source": [
        "29. Write a code to combine two dictionaries into one and print the result."
      ],
      "metadata": {
        "id": "JWeXcOx_zUpt"
      }
    },
    {
      "cell_type": "code",
      "source": [
        "dict1 = {'name': 'Alice', 'age': 25}\n",
        "dict2 = {'city': 'Mumbai', 'country': 'India'}\n",
        "combined_dict = {**dict1, **dict2}\n",
        "print(\"Combined Dictionary:\", combined_dict)"
      ],
      "metadata": {
        "colab": {
          "base_uri": "https://localhost:8080/"
        },
        "id": "7uU1EcYuzcaU",
        "outputId": "0cd08539-08f1-4668-f30d-685df55251ff"
      },
      "execution_count": null,
      "outputs": [
        {
          "output_type": "stream",
          "name": "stdout",
          "text": [
            "Combined Dictionary: {'name': 'Alice', 'age': 25, 'city': 'Mumbai', 'country': 'India'}\n"
          ]
        }
      ]
    },
    {
      "cell_type": "markdown",
      "source": [
        "30. Write a code to convert a list of strings into a set."
      ],
      "metadata": {
        "id": "Nf2dF1im1LKZ"
      }
    },
    {
      "cell_type": "code",
      "source": [
        "string_list = ['apple', 'banana', 'cherry', 'apple', 'banana']\n",
        "string_set = set(string_list)\n",
        "print(\"Set:\", string_set)"
      ],
      "metadata": {
        "colab": {
          "base_uri": "https://localhost:8080/"
        },
        "id": "MccKP9x31Qn4",
        "outputId": "cc3fc726-22b5-4bd0-9d6c-b9e15f56c9d1"
      },
      "execution_count": null,
      "outputs": [
        {
          "output_type": "stream",
          "name": "stdout",
          "text": [
            "Set: {'cherry', 'banana', 'apple'}\n"
          ]
        }
      ]
    }
  ]
}